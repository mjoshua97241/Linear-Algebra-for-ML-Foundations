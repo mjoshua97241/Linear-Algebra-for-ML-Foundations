{
 "cells": [
  {
   "cell_type": "markdown",
   "metadata": {
    "colab_type": "text",
    "id": "view-in-github"
   },
   "source": [
    "<a href=\"https://colab.research.google.com/github/jonkrohn/ML-foundations/blob/master/notebooks/regression-in-pytorch.ipynb\" target=\"_parent\"><img src=\"https://colab.research.google.com/assets/colab-badge.svg\" alt=\"Open In Colab\"/></a>"
   ]
  },
  {
   "cell_type": "markdown",
   "metadata": {
    "id": "oIX4xnrwiFZX"
   },
   "source": [
    "# Regression in PyTorch"
   ]
  },
  {
   "cell_type": "markdown",
   "metadata": {
    "id": "XZJhl8MciFZY"
   },
   "source": [
    "In this notebook, we use the PyTorch **automatic differentiation** library to fit a straight line to data points. Thus, here we use calculus to solve the same regression problem that we used the Moore-Penrose Pseudoinverse to solve in the [*Linear Algebra II* notebook](https://github.com/jonkrohn/ML-foundations/blob/master/notebooks/2-linear-algebra-ii.ipynb)."
   ]
  },
  {
   "cell_type": "code",
   "execution_count": 2,
   "metadata": {
    "id": "SdljCv4y09g-"
   },
   "outputs": [],
   "source": [
    "import torch\n",
    "import matplotlib.pyplot as plt"
   ]
  },
  {
   "cell_type": "code",
   "execution_count": 4,
   "metadata": {
    "colab": {
     "base_uri": "https://localhost:8080/"
    },
    "id": "RHG-NNVF09g_",
    "outputId": "441fd4cc-1d12-4e4d-a2ab-669bd9654ba0"
   },
   "outputs": [
    {
     "data": {
      "text/plain": [
       "tensor([0., 1., 2., 3., 4., 5., 6., 7.])"
      ]
     },
     "execution_count": 4,
     "metadata": {},
     "output_type": "execute_result"
    }
   ],
   "source": [
    "x = torch.tensor([0, 1, 2, 3, 4, 5, 6, 7.]) # E.g.: Dosage of drug for treating Alzheimer's disease\n",
    "x"
   ]
  },
  {
   "cell_type": "markdown",
   "metadata": {
    "id": "kbPWO45yiFZi"
   },
   "source": [
    "The $y$ values were created using the equation of a line $y = mx + b$. This way, we know what the model parameters to be learned are, say, $m = -0.5$ and $b = 2$. Random, normally-distributed noise has been added to simulate sampling error: "
   ]
  },
  {
   "cell_type": "code",
   "execution_count": 6,
   "metadata": {
    "id": "R6Z0z32d09hA"
   },
   "outputs": [],
   "source": [
    "y = -0.5*x + 2 + torch.normal(mean=torch.zeros(8), std=0.2)"
   ]
  },
  {
   "cell_type": "markdown",
   "metadata": {
    "id": "jW-52Td409hA"
   },
   "source": [
    "For reproducibility of this demo, here's a fixed example of $y$ values obtained by running the commented-out line above: "
   ]
  },
  {
   "cell_type": "code",
   "execution_count": null,
   "metadata": {
    "colab": {
     "base_uri": "https://localhost:8080/"
    },
    "id": "mntwNZyB09hA",
    "outputId": "993dc960-863a-4e86-e0ee-b5285d636814"
   },
   "outputs": [],
   "source": [
    "y = torch.tensor([1.86, 1.31, .62, .33, .09, -.67, -1.23, -1.37]) # E.g.: Patient's \"forgetfulness score\"\n",
    "y"
   ]
  },
  {
   "cell_type": "code",
   "execution_count": null,
   "metadata": {
    "colab": {
     "base_uri": "https://localhost:8080/",
     "height": 295
    },
    "id": "poVitT8409hA",
    "outputId": "8f51a69f-66af-445d-b269-f4022a6c7c8a"
   },
   "outputs": [],
   "source": [
    "fig, ax = plt.subplots()\n",
    "plt.title(\"Clinical Trial\")\n",
    "plt.xlabel(\"Drug dosage (mL)\")\n",
    "plt.ylabel(\"Forgetfulness\")\n",
    "_ = ax.scatter(x, y)"
   ]
  },
  {
   "cell_type": "markdown",
   "metadata": {
    "id": "6hl2KtAM09hB"
   },
   "source": [
    "Initialize the slope parameter $m$ with a \"random\" value of 0.9..."
   ]
  },
  {
   "cell_type": "markdown",
   "metadata": {
    "id": "hvAa4nXz09hB"
   },
   "source": [
    "(**N.B.**: In this simple demo, we could guess approximately-correct parameter values to start with. Or, we could use an algebraic (e.g., Moore-Penrose pseudoinverse) or statistical (e.g., ordinary-least-squares regression) to solve for the parameters quickly. This tiny machine learning demo with two parameters and eight data points scales, however, to millions of parameters and millions of data points. The other approaches -- guessing, algebra, statistics -- do not come close to scaling in this way.)"
   ]
  },
  {
   "cell_type": "code",
   "execution_count": null,
   "metadata": {
    "colab": {
     "base_uri": "https://localhost:8080/"
    },
    "id": "IXY3nd3r09hB",
    "outputId": "e5608780-f2e0-490e-dd8c-add6eab20f9a"
   },
   "outputs": [],
   "source": [
    "m = torch.tensor([0.9]).requires_grad_()\n",
    "m"
   ]
  },
  {
   "cell_type": "markdown",
   "metadata": {
    "id": "loz5ja6Z09hB"
   },
   "source": [
    "...and do the same for the $y$-intercept parameter $b$: "
   ]
  },
  {
   "cell_type": "code",
   "execution_count": null,
   "metadata": {
    "colab": {
     "base_uri": "https://localhost:8080/"
    },
    "id": "ofqXHEGL09hB",
    "outputId": "41020643-2e32-42d5-8e56-99cbaca94b6c"
   },
   "outputs": [],
   "source": [
    "b = torch.tensor([0.1]).requires_grad_()\n",
    "b"
   ]
  },
  {
   "cell_type": "code",
   "execution_count": null,
   "metadata": {
    "id": "BJ1-Rioe09hC"
   },
   "outputs": [],
   "source": [
    "def regression(my_x, my_m, my_b):\n",
    "    return my_m*my_x + my_b"
   ]
  },
  {
   "cell_type": "code",
   "execution_count": null,
   "metadata": {
    "id": "UbCaQY1R09hC"
   },
   "outputs": [],
   "source": [
    "def regression_plot(my_x, my_y, my_m, my_b):\n",
    "    \n",
    "    fig, ax = plt.subplots()\n",
    "\n",
    "    ax.scatter(my_x, my_y)\n",
    "    \n",
    "    x_min, x_max = ax.get_xlim()\n",
    "    y_min = regression(x_min, my_m, my_b).detach().item()\n",
    "    y_max = regression(x_max, my_m, my_b).detach().item()\n",
    "    \n",
    "    ax.set_xlim([x_min, x_max])\n",
    "    _ = ax.plot([x_min, x_max], [y_min, y_max])"
   ]
  },
  {
   "cell_type": "code",
   "execution_count": null,
   "metadata": {
    "colab": {
     "base_uri": "https://localhost:8080/",
     "height": 266
    },
    "id": "9auSbE4A09hC",
    "outputId": "39491dcd-d064-4dd4-c705-aa9745adf2c1"
   },
   "outputs": [],
   "source": [
    "regression_plot(x, y, m, b)"
   ]
  },
  {
   "cell_type": "markdown",
   "metadata": {
    "id": "tALo3vf_09hC"
   },
   "source": [
    "**Return to slides here if following *Calculus I* class.**"
   ]
  },
  {
   "cell_type": "markdown",
   "metadata": {
    "id": "Ws53tPJF09hC"
   },
   "source": [
    "### Machine Learning\n",
    "In four easy steps :)"
   ]
  },
  {
   "cell_type": "markdown",
   "metadata": {
    "id": "3egph_ZU09hC"
   },
   "source": [
    "**Step 1**: Forward pass"
   ]
  },
  {
   "cell_type": "code",
   "execution_count": null,
   "metadata": {
    "colab": {
     "base_uri": "https://localhost:8080/"
    },
    "id": "901_nf3f09hC",
    "outputId": "bae3e29c-85e2-41ec-8dbf-e1de3401b208"
   },
   "outputs": [],
   "source": [
    "yhat = regression(x, m, b)\n",
    "yhat"
   ]
  },
  {
   "cell_type": "markdown",
   "metadata": {
    "id": "AAV5AN8Y09hD"
   },
   "source": [
    "**Step 2**: Compare $\\hat{y}$ with true $y$ to calculate cost $C$"
   ]
  },
  {
   "cell_type": "markdown",
   "metadata": {
    "id": "VIUzVfyIiFZ4"
   },
   "source": [
    "There is a PyTorch `MSELoss` method, but let's define it outselves to see how it works. MSE cost is defined by: $$C = \\frac{1}{n} \\sum_{i=1}^n (\\hat{y_i}-y_i)^2 $$"
   ]
  },
  {
   "cell_type": "code",
   "execution_count": null,
   "metadata": {
    "id": "sRAbg8lQ09hD"
   },
   "outputs": [],
   "source": [
    "def mse(my_yhat, my_y): \n",
    "    sigma = torch.sum((my_yhat - my_y)**2)\n",
    "    return sigma/len(my_y)"
   ]
  },
  {
   "cell_type": "code",
   "execution_count": null,
   "metadata": {
    "colab": {
     "base_uri": "https://localhost:8080/"
    },
    "id": "V6I7Cmi409hD",
    "outputId": "c17956a3-4d2b-4dfc-cb41-c2c35aa4d8c8"
   },
   "outputs": [],
   "source": [
    "C = mse(yhat, y)\n",
    "C"
   ]
  },
  {
   "cell_type": "markdown",
   "metadata": {
    "id": "avZjfPNQ09hD"
   },
   "source": [
    "**Step 3**: Use autodiff to calculate gradient of $C$ w.r.t. parameters"
   ]
  },
  {
   "cell_type": "code",
   "execution_count": null,
   "metadata": {
    "id": "GmouXexF09hE"
   },
   "outputs": [],
   "source": [
    "C.backward()"
   ]
  },
  {
   "cell_type": "code",
   "execution_count": null,
   "metadata": {
    "colab": {
     "base_uri": "https://localhost:8080/"
    },
    "id": "cOYw5LOV09hE",
    "outputId": "c168314c-e1d1-4a30-eb12-c4cb2ad20e05"
   },
   "outputs": [],
   "source": [
    "m.grad"
   ]
  },
  {
   "cell_type": "code",
   "execution_count": null,
   "metadata": {
    "colab": {
     "base_uri": "https://localhost:8080/"
    },
    "id": "vyvLxxYy09hE",
    "outputId": "f0e03874-1b5f-4a8c-9231-1177536d891d"
   },
   "outputs": [],
   "source": [
    "b.grad"
   ]
  },
  {
   "cell_type": "markdown",
   "metadata": {
    "id": "iWn_fH0t09hE"
   },
   "source": [
    "**Step 4**: Gradient descent"
   ]
  },
  {
   "cell_type": "code",
   "execution_count": null,
   "metadata": {
    "id": "-H18htep09hE"
   },
   "outputs": [],
   "source": [
    "optimizer = torch.optim.SGD([m, b], lr=0.01)"
   ]
  },
  {
   "cell_type": "code",
   "execution_count": null,
   "metadata": {
    "id": "l6Ca-YTp09hE"
   },
   "outputs": [],
   "source": [
    "optimizer.step()"
   ]
  },
  {
   "cell_type": "markdown",
   "metadata": {
    "id": "bfMF3B2709hE"
   },
   "source": [
    "Confirm parameters have been adjusted sensibly: "
   ]
  },
  {
   "cell_type": "code",
   "execution_count": null,
   "metadata": {
    "colab": {
     "base_uri": "https://localhost:8080/"
    },
    "id": "GOr74kGm09hF",
    "outputId": "5a198564-d43f-45ad-c8fe-e6c5629bf4dc"
   },
   "outputs": [],
   "source": [
    "m"
   ]
  },
  {
   "cell_type": "code",
   "execution_count": null,
   "metadata": {
    "colab": {
     "base_uri": "https://localhost:8080/"
    },
    "id": "Ht7U_2_G09hF",
    "outputId": "dc44855c-1d4d-48c3-cf26-29d32385e0e1"
   },
   "outputs": [],
   "source": [
    "b"
   ]
  },
  {
   "cell_type": "code",
   "execution_count": null,
   "metadata": {
    "colab": {
     "base_uri": "https://localhost:8080/",
     "height": 265
    },
    "id": "qQIUjHPY09hF",
    "outputId": "45fe08d1-1f03-42c6-9d49-8e10309e1795"
   },
   "outputs": [],
   "source": [
    "regression_plot(x, y, m, b)"
   ]
  },
  {
   "cell_type": "markdown",
   "metadata": {
    "id": "mwo0UsoA09hF"
   },
   "source": [
    "We can repeat steps 1 and 2 to confirm cost has decreased: "
   ]
  },
  {
   "cell_type": "code",
   "execution_count": null,
   "metadata": {
    "colab": {
     "base_uri": "https://localhost:8080/"
    },
    "id": "76e1mVu209hF",
    "outputId": "428741db-dc8f-45c8-f640-d276dd03b285"
   },
   "outputs": [],
   "source": [
    "C = mse(regression(x, m, b), y)\n",
    "C"
   ]
  },
  {
   "cell_type": "markdown",
   "metadata": {
    "id": "r6dAqwRw09hF"
   },
   "source": [
    "Put the 4 steps in a loop to iteratively minimize cost toward zero: "
   ]
  },
  {
   "cell_type": "code",
   "execution_count": null,
   "metadata": {
    "colab": {
     "base_uri": "https://localhost:8080/"
    },
    "id": "wejSZX2q09hF",
    "outputId": "05546d2f-07e1-4c47-804e-f603aa65e949"
   },
   "outputs": [],
   "source": [
    "epochs = 1000\n",
    "for epoch in range(epochs):\n",
    "    \n",
    "    optimizer.zero_grad() # Reset gradients to zero; else they accumulate\n",
    "    \n",
    "    yhat = regression(x, m, b) # Step 1\n",
    "    C = mse(yhat, y) # Step 2\n",
    "    \n",
    "    C.backward() # Step 3\n",
    "    optimizer.step() # Step 4\n",
    "    \n",
    "    print('Epoch {}, cost {}, m grad {}, b grad {}'.format(epoch, '%.3g' % C.item(), '%.3g' % m.grad.item(), '%.3g' % b.grad.item()))"
   ]
  },
  {
   "cell_type": "code",
   "execution_count": null,
   "metadata": {
    "colab": {
     "base_uri": "https://localhost:8080/",
     "height": 265
    },
    "id": "fJeq0EFA09hG",
    "outputId": "cb5d5429-040b-4cc7-97aa-94c8f32def4d"
   },
   "outputs": [],
   "source": [
    "regression_plot(x, y, m, b)"
   ]
  },
  {
   "cell_type": "code",
   "execution_count": null,
   "metadata": {
    "colab": {
     "base_uri": "https://localhost:8080/"
    },
    "id": "S3B8PB5g09hG",
    "outputId": "aad1a876-75fb-4108-a5e2-f2780df48027"
   },
   "outputs": [],
   "source": [
    "m.item()"
   ]
  },
  {
   "cell_type": "code",
   "execution_count": null,
   "metadata": {
    "colab": {
     "base_uri": "https://localhost:8080/"
    },
    "id": "yYaCN83C09hG",
    "outputId": "0e6e4fcf-85cb-4baf-d281-e95fc89c8e47"
   },
   "outputs": [],
   "source": [
    "b.item()"
   ]
  },
  {
   "cell_type": "markdown",
   "metadata": {
    "id": "GfoFI9-x09hG"
   },
   "source": [
    "**N.B.**: The model doesn't perfectly approximate the slope (-0.5) and $y$-intercept (2.0) used to simulate the outcomes $y$ at the top of this notebook. This reflects the imperfectness of the sample of eight data points due to adding random noise during the simulation step. In the real world, the best solution would be to sample additional data points: The more data we sample, the more accurate our estimates of the true underlying parameters will be. "
   ]
  }
 ],
 "metadata": {
  "colab": {
   "include_colab_link": true,
   "name": "regression-in-pytorch.ipynb",
   "provenance": []
  },
  "kernelspec": {
   "display_name": "Python 3 (ipykernel)",
   "language": "python",
   "name": "python3"
  },
  "language_info": {
   "codemirror_mode": {
    "name": "ipython",
    "version": 3
   },
   "file_extension": ".py",
   "mimetype": "text/x-python",
   "name": "python",
   "nbconvert_exporter": "python",
   "pygments_lexer": "ipython3",
   "version": "3.12.3"
  }
 },
 "nbformat": 4,
 "nbformat_minor": 4
}

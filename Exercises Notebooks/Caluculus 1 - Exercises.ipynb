{
 "cells": [
  {
   "cell_type": "code",
   "execution_count": null,
   "id": "dcc8503d-7fd2-4c09-a4a5-005dc16e3f26",
   "metadata": {},
   "outputs": [],
   "source": []
  }
 ],
 "metadata": {
  "kernelspec": {
   "display_name": "",
   "name": ""
  },
  "language_info": {
   "name": ""
  }
 },
 "nbformat": 4,
 "nbformat_minor": 5
}

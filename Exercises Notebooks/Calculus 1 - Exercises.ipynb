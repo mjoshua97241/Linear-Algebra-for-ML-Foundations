{
 "cells": [
  {
   "cell_type": "markdown",
   "id": "4f56aa84-bfd2-459a-88ed-5bf8c00db946",
   "metadata": {},
   "source": [
    "# Calculus 1 - Exercises"
   ]
  },
  {
   "cell_type": "code",
   "execution_count": 9,
   "id": "31c51d77-5c8b-4ff2-9734-e669353e37d6",
   "metadata": {},
   "outputs": [],
   "source": [
    "# import libraries\n",
    "import torch\n",
    "import matplotlib.pyplot as plt\n",
    "import pandas as pd\n",
    "import numpy as np"
   ]
  },
  {
   "cell_type": "markdown",
   "id": "2f46d986-0b62-4e5d-b729-6f9b16f680ff",
   "metadata": {},
   "source": [
    "## 1.\n",
    "Use PyTorch (or TensorFlow, if you like) to find the slope of y = $x^{2} + 2x + 2$ where x = 2."
   ]
  },
  {
   "cell_type": "markdown",
   "id": "73a005de-0fe9-47e4-83db-82d53784fa0a",
   "metadata": {},
   "source": [
    "### Autodiff with PyTorch"
   ]
  },
  {
   "cell_type": "code",
   "execution_count": 13,
   "id": "51e91c90-1abb-4801-90e4-5ffd6b602f7f",
   "metadata": {},
   "outputs": [
    {
     "data": {
      "text/plain": [
       "tensor(2.)"
      ]
     },
     "execution_count": 13,
     "metadata": {},
     "output_type": "execute_result"
    }
   ],
   "source": [
    "# let's declare x variable\n",
    "x = torch.tensor(2.0)\n",
    "x"
   ]
  },
  {
   "cell_type": "code",
   "execution_count": 15,
   "id": "0c6512c8-e168-4d0a-b972-c6447e8b5755",
   "metadata": {},
   "outputs": [
    {
     "data": {
      "text/plain": [
       "tensor(2., requires_grad=True)"
      ]
     },
     "execution_count": 15,
     "metadata": {},
     "output_type": "execute_result"
    }
   ],
   "source": [
    "x.requires_grad_() # track gradients through forward pass"
   ]
  },
  {
   "cell_type": "code",
   "execution_count": 17,
   "id": "c32afe5e-adea-4ff3-956a-b8a5451fba9e",
   "metadata": {},
   "outputs": [],
   "source": [
    "# let us declare the equation\n",
    "y = x**2 + 2*x + 2"
   ]
  },
  {
   "cell_type": "code",
   "execution_count": 19,
   "id": "912fa7fa-e32a-4be2-a2a9-e87c588c84fc",
   "metadata": {},
   "outputs": [],
   "source": [
    "y.backward() # use autodiff (backward pass)"
   ]
  },
  {
   "cell_type": "code",
   "execution_count": 21,
   "id": "405316b6-17dd-49f9-955c-ab3097a0a1dd",
   "metadata": {},
   "outputs": [
    {
     "data": {
      "text/plain": [
       "tensor(6.)"
      ]
     },
     "execution_count": 21,
     "metadata": {},
     "output_type": "execute_result"
    }
   ],
   "source": [
    "x.grad"
   ]
  },
  {
   "cell_type": "markdown",
   "id": "82f64748-fa49-4d84-9380-87ea9465d75c",
   "metadata": {},
   "source": [
    "### Autodiff with Tensorflow"
   ]
  },
  {
   "cell_type": "code",
   "execution_count": 26,
   "id": "d47ee5f5-20ac-4032-b464-743ad5fb5f54",
   "metadata": {},
   "outputs": [],
   "source": [
    "import tensorflow as tf"
   ]
  },
  {
   "cell_type": "code",
   "execution_count": 30,
   "id": "f23d24b7-5a1d-42f0-9fb7-613e13f34835",
   "metadata": {},
   "outputs": [
    {
     "data": {
      "text/plain": [
       "<tf.Variable 'Variable:0' shape=() dtype=float32, numpy=2.0>"
      ]
     },
     "execution_count": 30,
     "metadata": {},
     "output_type": "execute_result"
    }
   ],
   "source": [
    "x_tf = tf.Variable(2.0)\n",
    "x_tf"
   ]
  },
  {
   "cell_type": "code",
   "execution_count": 36,
   "id": "accbc8e7-1435-49ea-b36e-579bea659020",
   "metadata": {},
   "outputs": [],
   "source": [
    "with tf.GradientTape() as t:\n",
    "    t.watch(x_tf) # track forward pass\n",
    "    y_tf = x_tf**2 + 2*x_tf + 2"
   ]
  },
  {
   "cell_type": "code",
   "execution_count": 38,
   "id": "23a03753-a0ea-4b19-a7dd-6929bb77f90e",
   "metadata": {},
   "outputs": [
    {
     "data": {
      "text/plain": [
       "<tf.Tensor: shape=(), dtype=float32, numpy=6.0>"
      ]
     },
     "execution_count": 38,
     "metadata": {},
     "output_type": "execute_result"
    }
   ],
   "source": [
    "t.gradient(y_tf, x_tf) # use autodiff"
   ]
  },
  {
   "cell_type": "markdown",
   "id": "c36ca4ef-5d23-40e7-87c9-ac49d7b3061f",
   "metadata": {},
   "source": [
    "## 2.\n",
    "\n",
    "Use the _Regression in PyTorch_ notebook to simulate a new linear relationship between y and x, and then fit parameters _m_ and _b_."
   ]
  },
  {
   "cell_type": "code",
   "execution_count": null,
   "id": "3eb0c5cc-5363-4bf4-8c9b-b34953fa804a",
   "metadata": {},
   "outputs": [],
   "source": []
  },
  {
   "cell_type": "markdown",
   "id": "dd5a898b-2674-4e77-b01c-6b047c341af3",
   "metadata": {},
   "source": [
    "## 3.\n",
    "Read about how _differential programming_, wherein computer programs can be differentiated, could be common soon (perhaps thanks to _quantum ML; see pennylane.ai)"
   ]
  },
  {
   "cell_type": "code",
   "execution_count": null,
   "id": "4f62c82d-30f3-43d5-9a52-38605f14653d",
   "metadata": {},
   "outputs": [],
   "source": []
  }
 ],
 "metadata": {
  "kernelspec": {
   "display_name": "Python 3 (ipykernel)",
   "language": "python",
   "name": "python3"
  },
  "language_info": {
   "codemirror_mode": {
    "name": "ipython",
    "version": 3
   },
   "file_extension": ".py",
   "mimetype": "text/x-python",
   "name": "python",
   "nbconvert_exporter": "python",
   "pygments_lexer": "ipython3",
   "version": "3.12.3"
  }
 },
 "nbformat": 4,
 "nbformat_minor": 5
}

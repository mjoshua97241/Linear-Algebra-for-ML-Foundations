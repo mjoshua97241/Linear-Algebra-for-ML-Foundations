{
 "cells": [
  {
   "cell_type": "markdown",
   "id": "d2b12ba6-b4a5-46e9-b5b0-a7f5bb9d6f09",
   "metadata": {},
   "source": [
    "# Exercises"
   ]
  },
  {
   "cell_type": "code",
   "execution_count": 6,
   "id": "361d3069-2daa-4d9c-b769-d3977f7e049a",
   "metadata": {},
   "outputs": [],
   "source": [
    "import numpy as np"
   ]
  },
  {
   "cell_type": "code",
   "execution_count": 8,
   "id": "c49194e6-ea14-4def-9f9e-8ea68e6ff7f0",
   "metadata": {},
   "outputs": [
    {
     "data": {
      "text/plain": [
       "array([[1, 0, 0],\n",
       "       [0, 1, 0],\n",
       "       [0, 0, 1]])"
      ]
     },
     "execution_count": 8,
     "metadata": {},
     "output_type": "execute_result"
    }
   ],
   "source": [
    "I = np.array([[1,0,0],\n",
    "             [0,1,0],\n",
    "             [0,0,1]])\n",
    "I"
   ]
  },
  {
   "cell_type": "markdown",
   "id": "81c673a2-c533-451e-9f64-55cafbfa279f",
   "metadata": {},
   "source": [
    "1. Use the dot product to demonstrate that any 2 columns of **$I_{3}$** are orthogonal to each other. "
   ]
  },
  {
   "cell_type": "code",
   "execution_count": 31,
   "id": "7176cbaf-357a-46ad-8d9a-b4290412bf76",
   "metadata": {},
   "outputs": [
    {
     "data": {
      "text/plain": [
       "array([1, 0, 0])"
      ]
     },
     "execution_count": 31,
     "metadata": {},
     "output_type": "execute_result"
    }
   ],
   "source": [
    "c1 = I[:,0]\n",
    "c1"
   ]
  },
  {
   "cell_type": "code",
   "execution_count": 33,
   "id": "7fb36e77-d6fa-45a8-9981-ddfbee5135f4",
   "metadata": {},
   "outputs": [
    {
     "data": {
      "text/plain": [
       "array([0, 1, 0])"
      ]
     },
     "execution_count": 33,
     "metadata": {},
     "output_type": "execute_result"
    }
   ],
   "source": [
    "c2 = I[:,1]\n",
    "c2"
   ]
  },
  {
   "cell_type": "code",
   "execution_count": 35,
   "id": "94d50db9-903c-4333-bd8e-fea3e3bd1208",
   "metadata": {},
   "outputs": [
    {
     "data": {
      "text/plain": [
       "0"
      ]
     },
     "execution_count": 35,
     "metadata": {},
     "output_type": "execute_result"
    }
   ],
   "source": [
    "ortho = np.dot(c1,c2)\n",
    "ortho"
   ]
  },
  {
   "cell_type": "markdown",
   "id": "5cab431d-fe16-4c73-8b37-7abc8f38bac2",
   "metadata": {},
   "source": [
    "2. Demonstrate that each columns of **$I_{3}$** has unit norm."
   ]
  },
  {
   "cell_type": "code",
   "execution_count": 40,
   "id": "d4624a88-e6a7-4c31-82fb-3b9c5c990291",
   "metadata": {},
   "outputs": [
    {
     "data": {
      "text/plain": [
       "1.0"
      ]
     },
     "execution_count": 40,
     "metadata": {},
     "output_type": "execute_result"
    }
   ],
   "source": [
    "unit = np.linalg.norm(c1)\n",
    "unit"
   ]
  },
  {
   "cell_type": "code",
   "execution_count": 44,
   "id": "e1d90ad2-2beb-4249-8903-691efdba847d",
   "metadata": {},
   "outputs": [
    {
     "data": {
      "text/plain": [
       "1.0"
      ]
     },
     "execution_count": 44,
     "metadata": {},
     "output_type": "execute_result"
    }
   ],
   "source": [
    "unit2 = np.linalg.norm(c2)\n",
    "unit2"
   ]
  },
  {
   "cell_type": "markdown",
   "id": "49b31c9d-03cc-4070-880f-d752ad2ead6e",
   "metadata": {},
   "source": [
    "4. Now, using matrix K, repeat 1 - 2. "
   ]
  },
  {
   "cell_type": "code",
   "execution_count": 81,
   "id": "6eab9765-2a12-40a0-98d3-fb336bc741d3",
   "metadata": {},
   "outputs": [
    {
     "data": {
      "text/plain": [
       "array([[Fraction(2, 3), Fraction(1, 3), Fraction(2, 3)],\n",
       "       [Fraction(-2, 3), Fraction(2, 3), Fraction(1, 3)],\n",
       "       [Fraction(1, 3), Fraction(2, 3), Fraction(-2, 3)]], dtype=object)"
      ]
     },
     "execution_count": 81,
     "metadata": {},
     "output_type": "execute_result"
    }
   ],
   "source": [
    "# from fractions import Fraction\n",
    "\n",
    "# K = np.array([\n",
    "#     [Fraction(2, 3), Fraction(1, 3), Fraction(2, 3)],\n",
    "#     [Fraction(-2, 3), Fraction(2, 3), Fraction(1, 3)],\n",
    "#     [Fraction(1, 3), Fraction(2, 3), Fraction(-2, 3)]\n",
    "# ])\n",
    "# K"
   ]
  },
  {
   "cell_type": "code",
   "execution_count": 83,
   "id": "8fa753e9-9043-4ac6-93f0-b52f55693921",
   "metadata": {},
   "outputs": [
    {
     "data": {
      "text/plain": [
       "array([Fraction(2, 3), Fraction(-2, 3), Fraction(1, 3)], dtype=object)"
      ]
     },
     "execution_count": 83,
     "metadata": {},
     "output_type": "execute_result"
    }
   ],
   "source": [
    "k1 = K[:,0]\n",
    "k1"
   ]
  },
  {
   "cell_type": "code",
   "execution_count": 85,
   "id": "46888252-5bc5-4b81-bbb4-b6e9fc60e250",
   "metadata": {},
   "outputs": [
    {
     "data": {
      "text/plain": [
       "array([Fraction(1, 3), Fraction(2, 3), Fraction(2, 3)], dtype=object)"
      ]
     },
     "execution_count": 85,
     "metadata": {},
     "output_type": "execute_result"
    }
   ],
   "source": [
    "k2 = K[:,1]\n",
    "k2"
   ]
  },
  {
   "cell_type": "code",
   "execution_count": 87,
   "id": "3a3b9605-8976-467c-8adf-e76fa5d31d69",
   "metadata": {},
   "outputs": [
    {
     "data": {
      "text/plain": [
       "Fraction(0, 1)"
      ]
     },
     "execution_count": 87,
     "metadata": {},
     "output_type": "execute_result"
    }
   ],
   "source": [
    "k_ortho = np.dot(k1,k2)\n",
    "k_ortho"
   ]
  },
  {
   "cell_type": "code",
   "execution_count": 95,
   "id": "36002c28-77d6-4cfc-ab41-df10812c45f3",
   "metadata": {},
   "outputs": [],
   "source": [
    "K1 = np.array([[2/3, 1/3, 2/3],\n",
    "             [-(2/3), 2/3, 1/3],\n",
    "             [1/3, 2/3, -(2/3)]])\n",
    "K1"
   ]
  },
  {
   "cell_type": "code",
   "execution_count": 101,
   "id": "b5567931-cfeb-423d-bcb9-00d0db88f6ac",
   "metadata": {},
   "outputs": [
    {
     "data": {
      "text/plain": [
       "array([ 0.66666667, -0.66666667,  0.33333333])"
      ]
     },
     "execution_count": 101,
     "metadata": {},
     "output_type": "execute_result"
    }
   ],
   "source": [
    "k_1 = K1[:,0]\n",
    "k_1"
   ]
  },
  {
   "cell_type": "code",
   "execution_count": 103,
   "id": "25ac6fb5-676e-4ef2-86b4-818049ccb87e",
   "metadata": {},
   "outputs": [
    {
     "data": {
      "text/plain": [
       "1.0"
      ]
     },
     "execution_count": 103,
     "metadata": {},
     "output_type": "execute_result"
    }
   ],
   "source": [
    "k_unit = np.linalg.norm(k_1)\n",
    "k_unit"
   ]
  },
  {
   "cell_type": "code",
   "execution_count": null,
   "id": "85d554b2-8e32-4a55-8388-42c7aea9773c",
   "metadata": {},
   "outputs": [],
   "source": []
  }
 ],
 "metadata": {
  "kernelspec": {
   "display_name": "Python 3 (ipykernel)",
   "language": "python",
   "name": "python3"
  },
  "language_info": {
   "codemirror_mode": {
    "name": "ipython",
    "version": 3
   },
   "file_extension": ".py",
   "mimetype": "text/x-python",
   "name": "python",
   "nbconvert_exporter": "python",
   "pygments_lexer": "ipython3",
   "version": "3.12.7"
  }
 },
 "nbformat": 4,
 "nbformat_minor": 5
}
